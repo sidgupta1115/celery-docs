{
 "cells": [
  {
   "cell_type": "markdown",
   "metadata": {},
   "source": [
    "# Celey: Asychronous backend tasks for Flask"
   ]
  },
  {
   "cell_type": "markdown",
   "metadata": {},
   "source": [
    "This document will show the setup of Celery with the Flask web framework. At the end of this document you will know how to configure celery with rabbitmq as a messaging queue to perform asynchronous tasks from Flask, configure Supervisor to monitor Celery as a backend daemon, and troubleshoot bugs.\n",
    "\n",
    "This document references example files that use pseudocode and will not function as is. I have also attached the actual project files to be used as reference\n",
    "\n",
    "This document does not go into the full configuration of Flask but I will provided resources as necessary\n",
    "Configuring Flask on EC2 Ubuntu 14.04 Server: https://www.datasciencebytes.com/bytes/2015/02/24/running-a-flask-app-on-aws-ec2/\n"
   ]
  },
  {
   "cell_type": "markdown",
   "metadata": {},
   "source": [
    "## The 4 Components to the  Celery framework:\n",
    "1. **Flask**: client application. This is where Celery is triggered to run an asychronous task. **simple_flask_example.py** shows a basic implementation of flask with the pseudocode to build a model\n",
    "2. **Message Queue**: rabbitmq broker. This is the environment where celery \"workers\" perform the task. It can be configured such that rabbitmq runs the tasks on a separate server but in our example we run rabbitmq from the same ec2 environment\n",
    "3. **Celery**: framework for asynchronous tasks. Celery need to be configuered to run with Flask. The file **celery_config.py** holds the configuration information\n",
    "4. **Supervisor**: Process monitor/controller. This how we run Celery as a daemon backend process and monitior/troubleshoot Celery's performance or bugs."
   ]
  },
  {
   "cell_type": "markdown",
   "metadata": {},
   "source": [
    "## 1. Install packages"
   ]
  },
  {
   "cell_type": "markdown",
   "metadata": {},
   "source": [
    "Rabbitmq"
   ]
  },
  {
   "cell_type": "code",
   "execution_count": null,
   "metadata": {
    "collapsed": true
   },
   "outputs": [],
   "source": [
    "sudo apt-get install rabbitmq-server"
   ]
  },
  {
   "cell_type": "markdown",
   "metadata": {},
   "source": [
    "restart to make sure its running"
   ]
  },
  {
   "cell_type": "code",
   "execution_count": null,
   "metadata": {
    "collapsed": true
   },
   "outputs": [],
   "source": [
    "sudo service rabbitmq-server restart"
   ]
  },
  {
   "cell_type": "markdown",
   "metadata": {},
   "source": [
    "Celery"
   ]
  },
  {
   "cell_type": "code",
   "execution_count": null,
   "metadata": {
    "collapsed": true
   },
   "outputs": [],
   "source": [
    "sudo pip install celery"
   ]
  },
  {
   "cell_type": "markdown",
   "metadata": {},
   "source": [
    "Supervisor"
   ]
  },
  {
   "cell_type": "code",
   "execution_count": null,
   "metadata": {
    "collapsed": true
   },
   "outputs": [],
   "source": [
    "sudo apt-get install supervisor"
   ]
  },
  {
   "cell_type": "code",
   "execution_count": null,
   "metadata": {
    "collapsed": true
   },
   "outputs": [],
   "source": [
    "sudo service supervisor restart"
   ]
  },
  {
   "cell_type": "markdown",
   "metadata": {},
   "source": [
    "## 2. Configure Flask to work with Celery"
   ]
  },
  {
   "cell_type": "markdown",
   "metadata": {},
   "source": [
    "In your project directory copy the files **simple_flask_example.py**, this will be our sample flask application and **celery_config.py**, this contains the function **make_celery()** that **simple_flask_example.py** will call to configure Celery"
   ]
  },
  {
   "cell_type": "markdown",
   "metadata": {},
   "source": [
    "## 3. How Celery Is Configured"
   ]
  },
  {
   "cell_type": "code",
   "execution_count": null,
   "metadata": {
    "collapsed": true
   },
   "outputs": [],
   "source": [
    "app = Flask(__name__)\n",
    "\n",
    "# where you want the rabbitmq server running\n",
    "app.config['CELERY_BROKER_URL'] = 'amqp://13.56.177.159//' \n",
    "\n",
    "# which server you want results to go to this can be configure with a datbase server\n",
    "app.config['CELERY_BACKEND'] = 'amqp://13.56.177.159//'  \n",
    "\n",
    "celery = make_celery(app)"
   ]
  },
  {
   "cell_type": "markdown",
   "metadata": {},
   "source": [
    "## 4. How to make celery run an async task"
   ]
  },
  {
   "cell_type": "code",
   "execution_count": null,
   "metadata": {
    "collapsed": true
   },
   "outputs": [],
   "source": [
    "@celery.task(name = 'simple_flask_example.buildmodel_backend')\n",
    "def buildmodel(filename):\n",
    "    \n",
    "    ### PROCESS TO BUILD MODEL\n",
    "    \n",
    "    return model\n"
   ]
  },
  {
   "cell_type": "markdown",
   "metadata": {},
   "source": [
    "1. Define a celery task with the '@' decorator and give it an explict **name in the form 'name_of_flask_application.name_of_function**\n",
    "2. Define a function to build a model. You can see how this is actually implement in the attached travelapi folder in **travelapi.py**"
   ]
  },
  {
   "cell_type": "code",
   "execution_count": null,
   "metadata": {
    "collapsed": true
   },
   "outputs": [],
   "source": [
    "@app.route('/buildmodelbackend/<filename>')\n",
    "def buildmodelbackend(filename):\n",
    "    buildmodel.delay(filename)\n",
    "    return '202: Accepted'"
   ]
  },
  {
   "cell_type": "markdown",
   "metadata": {},
   "source": [
    "3. Define an app route where we can call the flask application. In this example if we want to build a model wh can do so by going to **13.56.177.159/buildmodelbackend/12345**\n",
    "\n",
    "4. Define a function at that app route (def buildmodelbackend(filename)) We tell flask call the celery function buildmodel by using the .delay method and passing it the argument (buildmodel.delay(filename)) This will start celery and then generate a 202 Response Code"
   ]
  },
  {
   "cell_type": "markdown",
   "metadata": {},
   "source": [
    "## 5. Configuring Supervisord to monitor Celery as a backend process"
   ]
  },
  {
   "cell_type": "markdown",
   "metadata": {},
   "source": [
    "New programs are given to Supervisor through configuration files, which inform it of the executable to run, any environmental variables, and how output should be handled.\n",
    "\n",
    "All programs run under Supervisor must be run in a non-daemonising mode (sometimes also called 'foreground mode').\n",
    "\n",
    "The program configuration files for Supervisor programs are found in the **/etc/supervisor/supervisord.conf**  directory, normally with one program per file and a .conf extension. Each program you supervisor to monitor need a configuration file saved at **/etc/supervisor/conf.d/{program_name}.conf**. In our case **/etc/supervisor/conf.d/celeryd.conf** for our celery program\n",
    " "
   ]
  },
  {
   "cell_type": "markdown",
   "metadata": {},
   "source": [
    "1. Configure /etc/supervisor/supervisord.conf"
   ]
  },
  {
   "cell_type": "code",
   "execution_count": null,
   "metadata": {
    "collapsed": true
   },
   "outputs": [],
   "source": [
    "sudo nano /etc/supervisor/supervisord.conf"
   ]
  },
  {
   "cell_type": "markdown",
   "metadata": {},
   "source": [
    "Make sure these are the same"
   ]
  },
  {
   "cell_type": "raw",
   "metadata": {},
   "source": [
    "; supervisor config file\n",
    "\n",
    "[unix_http_server]\n",
    "file=/var/run/supervisor.sock   ; (the path to the socket file)\n",
    "chmod=0700                       ; sockef file mode (default 0700)\n",
    "\n",
    "[supervisord]\n",
    "logfile=/var/log/supervisor/supervisord.log ; (main log file;default $CWD/supervisord.log)\n",
    "pidfile=/var/run/supervisord.pid ; (supervisord pidfile;default supervisord.pid)\n",
    "childlogdir=/var/log/supervisor            ; ('AUTO' child log dir, default $TEMP)\n",
    "\n",
    "; the below section must remain in the config file for RPC\n",
    "; (supervisorctl/web interface) to work, additional interfaces may be\n",
    "; added by defining them in separate rpcinterface: sections\n",
    "[rpcinterface:supervisor]\n",
    "supervisor.rpcinterface_factory = supervisor.rpcinterface:make_main_rpcinterface\n",
    "\n",
    "\n",
    "[supervisorctl]\n",
    "serverurl=unix:///var/run/supervisor.sock ; use a unix:// URL  for a unix socket\n",
    "\n",
    "; The [include] section can just contain the \"files\" setting.  This\n",
    "; setting can list multiple files (separated by whitespace or\n",
    "; newlines).  It can also contain wildcards.  The filenames are\n",
    "; interpreted as relative to this file.  Included files *cannot*\n",
    "; include files themselves.\n",
    "\n",
    "[include]\n",
    "files = /etc/supervisor/conf.d/*.conf\n"
   ]
  },
  {
   "cell_type": "markdown",
   "metadata": {},
   "source": [
    "2. Configure /etc/supervisor/conf.d/celeryd.conf"
   ]
  },
  {
   "cell_type": "code",
   "execution_count": null,
   "metadata": {
    "collapsed": true
   },
   "outputs": [],
   "source": [
    "sudo nano /etc/supervisor/conf.d/celeryd.conf"
   ]
  },
  {
   "cell_type": "markdown",
   "metadata": {},
   "source": [
    "Make sure these are the same"
   ]
  },
  {
   "cell_type": "raw",
   "metadata": {},
   "source": [
    "; ==================================\n",
    ";  celery worker supervisor example\n",
    "; ==================================\n",
    "\n",
    "[program:celery]\n",
    "; Set full path to celery program if using virtualenv\n",
    "; this is the command you supervisor to run and monitor\n",
    "command= celery -A simple_flask_example.buildmodel_backend worker --loglevel=info -Ofair --concurrency=2\n",
    "\n",
    "\n",
    "directory=/home/ubuntu/project_directory\n",
    "user= ubuntu\n",
    "numprocs=1\n",
    "\n",
    "; this is where you can find the log files for celery workers to monitor their statuses and debug\n",
    "\n",
    "stdout_logfile=/var/log/celery/worker.log\n",
    "stderr_logfile=/var/log/celery/worker.log\n",
    "autostart=true\n",
    "autorestart=true\n",
    "startsecs=10\n",
    "\n",
    "; Need to wait for currently executing tasks to finish at shutdown.\n",
    "; Increase this if you have very long running tasks.\n",
    "stopwaitsecs = 600\n",
    "\n",
    "; Causes supervisor to send the termination signal (SIGTERM) to the whole process group.\n",
    "stopasgroup=true\n",
    "stopsignal=QUIT\n",
    "\n",
    "; Set Celery priority higher than default (999)\n",
    "; so, if rabbitmq is supervised, it will start first.\n",
    "priority=1000\n"
   ]
  },
  {
   "cell_type": "markdown",
   "metadata": {},
   "source": [
    "After config files are saved run:"
   ]
  },
  {
   "cell_type": "code",
   "execution_count": null,
   "metadata": {
    "collapsed": true
   },
   "outputs": [],
   "source": [
    "sudo supervisorctl reread\n",
    "sudo supervisorctl update\n",
    "sudo supervisor reload"
   ]
  },
  {
   "cell_type": "markdown",
   "metadata": {},
   "source": [
    "You can check the status of supervisor programs using:"
   ]
  },
  {
   "cell_type": "code",
   "execution_count": null,
   "metadata": {
    "collapsed": true
   },
   "outputs": [],
   "source": [
    "sudo supervisor status"
   ]
  },
  {
   "cell_type": "markdown",
   "metadata": {},
   "source": [
    "This will tell you which supervisor programs are running or if there were any errors"
   ]
  },
  {
   "cell_type": "markdown",
   "metadata": {},
   "source": [
    "More Resources for Supervisord: \n",
    "1. Config files:\n",
    "https://github.com/celery/celery/tree/master/extra/supervisord\n",
    "2. Config info:\n",
    "http://supervisord.org/configuration.html\n",
    "3. Supervisor on Ubuntu:\n",
    "https://www.digitalocean.com/community/tutorials/how-to-install-and-manage-supervisor-on-ubuntu-and-debian-vps"
   ]
  },
  {
   "cell_type": "markdown",
   "metadata": {},
   "source": [
    "## 6. Testing the whole process"
   ]
  },
  {
   "cell_type": "markdown",
   "metadata": {},
   "source": [
    "Test whether Flask is correctly running celery in the backend by calling the endpoint at the defined app route:\n",
    "13.56.177.159/buildmodelbackend/12345"
   ]
  },
  {
   "cell_type": "markdown",
   "metadata": {},
   "source": [
    "1. Run the endpoint\n",
    "2. Check the celery log configured in step 5 for the status of the celery work or if any errors occured"
   ]
  },
  {
   "cell_type": "code",
   "execution_count": null,
   "metadata": {
    "collapsed": true
   },
   "outputs": [],
   "source": [
    "cat /var/log/celery/worker.log"
   ]
  }
 ],
 "metadata": {
  "kernelspec": {
   "display_name": "Python 3",
   "language": "python",
   "name": "python3"
  },
  "language_info": {
   "codemirror_mode": {
    "name": "ipython",
    "version": 3
   },
   "file_extension": ".py",
   "mimetype": "text/x-python",
   "name": "python",
   "nbconvert_exporter": "python",
   "pygments_lexer": "ipython3",
   "version": "3.6.2"
  }
 },
 "nbformat": 4,
 "nbformat_minor": 2
}
